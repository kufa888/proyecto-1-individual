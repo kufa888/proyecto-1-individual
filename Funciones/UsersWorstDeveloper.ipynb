{
 "cells": [
  {
   "cell_type": "code",
   "execution_count": 1,
   "metadata": {},
   "outputs": [],
   "source": [
    "#importamos pandas\n",
    "import pandas as pd"
   ]
  },
  {
   "cell_type": "code",
   "execution_count": 2,
   "metadata": {},
   "outputs": [],
   "source": [
    "#leemos la tabla api\n",
    "Tabla_API= pd.read_parquet('Tabla_API.parquet')"
   ]
  },
  {
   "cell_type": "code",
   "execution_count": 3,
   "metadata": {},
   "outputs": [],
   "source": [
    "#creamos un parquet con esta informacion\n",
    "funcion= Tabla_API[['developer','year_review', 'recommend', 'sentiment_analysis']]"
   ]
  },
  {
   "cell_type": "code",
   "execution_count": 4,
   "metadata": {},
   "outputs": [],
   "source": [
    "funcion = funcion.drop_duplicates(subset=['developer','year_review', 'recommend', 'sentiment_analysis'])\n",
    "funcion = funcion.reset_index(drop=True)\n",
    "funcion.to_parquet('funcion_UsersWorstDeveloper.parquet')"
   ]
  },
  {
   "cell_type": "markdown",
   "metadata": {},
   "source": [
    "Funcion Users Worst Developer"
   ]
  },
  {
   "cell_type": "code",
   "execution_count": 5,
   "metadata": {},
   "outputs": [],
   "source": [
    "def UsersWorstDeveloper(year: int):\n",
    " \n",
    " # Filtrar el DataFrame por el año específico y las recomendaciones positivas o neutrales\n",
    " year_data = funcion[(funcion['year_review'] == year)]\n",
    " year_data1 = funcion[(funcion['recommend'] == False) & (funcion['sentiment_analysis']== 0)]\n",
    " year= year_data1.groupby('developer')['recommend'].sum().sort_values(ascending=False).head(3)\n",
    " result = pd.DataFrame(year).to_dict()\n",
    "\n",
    " # Convertir el resultado a una lista de diccionarios\n",
    " result = [{\"Puesto \" + str(i+1) : v} for i, v in enumerate(result['recommend'])]\n",
    " return result"
   ]
  },
  {
   "cell_type": "code",
   "execution_count": 6,
   "metadata": {},
   "outputs": [
    {
     "data": {
      "text/plain": [
       "[{'Puesto 1': '10th Art Studio,Adventure Productions'},\n",
       " {'Puesto 2': 'Pieces Interactive'},\n",
       " {'Puesto 3': 'Rain Games'}]"
      ]
     },
     "execution_count": 6,
     "metadata": {},
     "output_type": "execute_result"
    }
   ],
   "source": [
    "UsersWorstDeveloper(2012)"
   ]
  }
 ],
 "metadata": {
  "kernelspec": {
   "display_name": "Python 3",
   "language": "python",
   "name": "python3"
  },
  "language_info": {
   "codemirror_mode": {
    "name": "ipython",
    "version": 3
   },
   "file_extension": ".py",
   "mimetype": "text/x-python",
   "name": "python",
   "nbconvert_exporter": "python",
   "pygments_lexer": "ipython3",
   "version": "3.11.2"
  }
 },
 "nbformat": 4,
 "nbformat_minor": 2
}
