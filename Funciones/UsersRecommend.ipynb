{
 "cells": [
  {
   "cell_type": "code",
   "execution_count": 12,
   "metadata": {},
   "outputs": [],
   "source": [
    "#importamos pandas\n",
    "import pandas as pd\n"
   ]
  },
  {
   "cell_type": "code",
   "execution_count": 13,
   "metadata": {},
   "outputs": [],
   "source": [
    "#leemos la tabla api\n",
    "Tabla_API= pd.read_parquet('Tabla_API.parquet')"
   ]
  },
  {
   "cell_type": "code",
   "execution_count": 14,
   "metadata": {},
   "outputs": [],
   "source": [
    "#creamos un parquet con esta informacion\n",
    "funcion= Tabla_API[['item_name','year_review', 'recommend', 'sentiment_analysis']]"
   ]
  },
  {
   "cell_type": "code",
   "execution_count": 19,
   "metadata": {},
   "outputs": [],
   "source": [
    "funcion = funcion.drop_duplicates(subset=['item_name', 'year_review', 'recommend','sentiment_analysis'])\n",
    "funcion = funcion.reset_index(drop=True)\n",
    "funcion.to_parquet('funcion_UsersRecommend.parquet')"
   ]
  },
  {
   "cell_type": "markdown",
   "metadata": {},
   "source": [
    "Funcion Users Recommend"
   ]
  },
  {
   "cell_type": "code",
   "execution_count": 20,
   "metadata": {},
   "outputs": [],
   "source": [
    "def UsersRecommend(year: int) :\n",
    " \n",
    " # Filtrar el DataFrame por el año específico y las recomendaciones positivas o neutrales\n",
    " year_data = funcion[(funcion['year_review'] == year)]\n",
    " year_data1 = funcion[(funcion['recommend'] == True) & (funcion['sentiment_analysis'].isin([2, 1]))]\n",
    " year = year_data1.groupby('item_name')['recommend'].sum().sort_values(ascending=False).head(3)\n",
    " result = pd.DataFrame(year).to_dict()\n",
    "\n",
    " # Convertir el resultado a una lista de diccionarios\n",
    " result = [{\"Puesto \" + str(i+1) : v} for i, v in enumerate(result['recommend'])]\n",
    " \n",
    " return result"
   ]
  },
  {
   "cell_type": "code",
   "execution_count": 21,
   "metadata": {},
   "outputs": [
    {
     "name": "stdout",
     "output_type": "stream",
     "text": [
      "[{'Puesto 1': 'Killing Floor'}, {'Puesto 2': 'Counter-Strike: Source'}, {'Puesto 3': \"Garry's Mod\"}]\n"
     ]
    }
   ],
   "source": [
    "print(UsersRecommend(2014))"
   ]
  }
 ],
 "metadata": {
  "kernelspec": {
   "display_name": "Python 3",
   "language": "python",
   "name": "python3"
  },
  "language_info": {
   "codemirror_mode": {
    "name": "ipython",
    "version": 3
   },
   "file_extension": ".py",
   "mimetype": "text/x-python",
   "name": "python",
   "nbconvert_exporter": "python",
   "pygments_lexer": "ipython3",
   "version": "3.11.2"
  }
 },
 "nbformat": 4,
 "nbformat_minor": 2
}
