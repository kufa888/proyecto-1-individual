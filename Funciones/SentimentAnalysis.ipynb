{
 "cells": [
  {
   "cell_type": "code",
   "execution_count": 1,
   "metadata": {},
   "outputs": [],
   "source": [
    "#importamos pandas\n",
    "import pandas as pd"
   ]
  },
  {
   "cell_type": "code",
   "execution_count": 2,
   "metadata": {},
   "outputs": [],
   "source": [
    "#leemos la tabla api\n",
    "Tabla_API= pd.read_parquet('Tabla_API.parquet')"
   ]
  },
  {
   "cell_type": "code",
   "execution_count": 9,
   "metadata": {},
   "outputs": [],
   "source": [
    "funcion= Tabla_API[['developer','year_review', 'recommend', 'sentiment_analysis']]"
   ]
  },
  {
   "cell_type": "code",
   "execution_count": 10,
   "metadata": {},
   "outputs": [],
   "source": [
    "funcion = funcion.drop_duplicates(subset=['developer','year_review', 'recommend', 'sentiment_analysis'])\n",
    "funcion = funcion.reset_index(drop=True)\n",
    "funcion.to_parquet('funcion_SentimentAnalysis.parquet')"
   ]
  },
  {
   "cell_type": "markdown",
   "metadata": {},
   "source": [
    "Funcion Sentiment Analysis"
   ]
  },
  {
   "cell_type": "code",
   "execution_count": 11,
   "metadata": {},
   "outputs": [],
   "source": [
    "def sentiment_analysis(empresa_desarrolladora: str) -> dict:\n",
    "  # Crear un diccionario que mapee los valores '0', '1' y '2' a 'Negativo', 'Neutral' y 'Positivo'\n",
    "  sentiment_mapping = {0: 'Negativo', 1: 'Neutral', 2: 'Positivo'}\n",
    "\n",
    "  # Reemplazar los valores en la columna 'sentiment_analysis'\n",
    "  funcion['sentiment_analysis'] = funcion['sentiment_analysis'].replace(sentiment_mapping)\n",
    "\n",
    "  # Filtrar el DataFrame por la empresa desarrolladora\n",
    "  df_filtered = funcion[funcion['developer'] == empresa_desarrolladora]\n",
    "\n",
    "  # Verificar si se encontraron datos para la empresa desarrolladora\n",
    "  if df_filtered.empty:\n",
    "      print(f\"No hay datos para la empresa {empresa_desarrolladora}.\")\n",
    "      return None\n",
    "\n",
    "  # Agrupar por análisis de sentimiento y contar las filas\n",
    "  df_grouped = df_filtered.groupby(['developer', 'sentiment_analysis']).size().reset_index(name='Numero de registros')\n",
    "\n",
    "  # Convertir el DataFrame agrupado en un diccionario con el nombre de la empresa desarrolladora como llave y una lista con la cantidad total de registros de reseñas de usuarios que se encuentren categorizados con un análisis de sentimiento como valor\n",
    "  sentiment_analysis = {empresa_desarrolladora: df_grouped.set_index('sentiment_analysis')['Numero de registros'].to_dict()}\n",
    "\n",
    "  return sentiment_analysis"
   ]
  },
  {
   "cell_type": "code",
   "execution_count": 12,
   "metadata": {},
   "outputs": [
    {
     "name": "stdout",
     "output_type": "stream",
     "text": [
      "{'Ubisoft': {'Negativo': 3, 'Neutral': 4, 'Positivo': 5}}\n"
     ]
    }
   ],
   "source": [
    "print(sentiment_analysis('Ubisoft'))"
   ]
  }
 ],
 "metadata": {
  "kernelspec": {
   "display_name": "Python 3",
   "language": "python",
   "name": "python3"
  },
  "language_info": {
   "codemirror_mode": {
    "name": "ipython",
    "version": 3
   },
   "file_extension": ".py",
   "mimetype": "text/x-python",
   "name": "python",
   "nbconvert_exporter": "python",
   "pygments_lexer": "ipython3",
   "version": "3.11.2"
  }
 },
 "nbformat": 4,
 "nbformat_minor": 2
}
