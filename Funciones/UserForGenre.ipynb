{
 "cells": [
  {
   "cell_type": "code",
   "execution_count": 1,
   "metadata": {},
   "outputs": [],
   "source": [
    "#importamos pandas\n",
    "import pandas as pd\n"
   ]
  },
  {
   "cell_type": "code",
   "execution_count": 2,
   "metadata": {},
   "outputs": [],
   "source": [
    "#leemos la tabla api\n",
    "Tabla_API= pd.read_parquet('Tabla_API.parquet')"
   ]
  },
  {
   "cell_type": "markdown",
   "metadata": {},
   "source": [
    "Funcion user for genre"
   ]
  },
  {
   "cell_type": "code",
   "execution_count": 3,
   "metadata": {},
   "outputs": [],
   "source": [
    "def UserForGenre(genre):\n",
    "   # Filtrar el DataFrame por el género específico\n",
    "   genre_data = Tabla_API[Tabla_API['genres'].str.contains(genre, case=False, na=False)]\n",
    "\n",
    "   # Verificar si se encontraron datos para el género especificado\n",
    "   if genre_data.empty:\n",
    "       print(f\"No hay datos para el género {genre}.\")\n",
    "       return None\n",
    "\n",
    "   # Agrupar por usuario y sumar las horas jugadas\n",
    "   user_playtimes = genre_data.groupby('user_id')['playtime_forever'].sum()\n",
    "\n",
    "   # Encontrar el usuario con más horas jugadas\n",
    "   user_max_playtime = user_playtimes.idxmax()\n",
    "\n",
    "   # Obtener la acumulación de horas jugadas por año\n",
    "   playtime_by_year = genre_data.groupby('year_release')['playtime_forever'].sum().reset_index()\n",
    "\n",
    "   # Crear un diccionario con los resultados\n",
    "   result = {\n",
    "       'Usuario_con_mas_horas_jugadas': user_max_playtime,\n",
    "       'Horas_jugadas_por_año': playtime_by_year.to_dict('records')\n",
    "   }\n",
    "\n",
    "   return result\n"
   ]
  },
  {
   "cell_type": "code",
   "execution_count": 4,
   "metadata": {},
   "outputs": [
    {
     "name": "stdout",
     "output_type": "stream",
     "text": [
      "{'Usuario_con_mas_horas_jugadas': 'tsunamitad', 'Horas_jugadas_por_año': [{'year_release': 1992, 'playtime_forever': 50}, {'year_release': 1993, 'playtime_forever': 51}, {'year_release': 1994, 'playtime_forever': 67}, {'year_release': 1996, 'playtime_forever': 968}, {'year_release': 1997, 'playtime_forever': 493}, {'year_release': 1998, 'playtime_forever': 251}, {'year_release': 1999, 'playtime_forever': 32739}, {'year_release': 2001, 'playtime_forever': 89}, {'year_release': 2002, 'playtime_forever': 88}, {'year_release': 2003, 'playtime_forever': 12}, {'year_release': 2004, 'playtime_forever': 1150}, {'year_release': 2006, 'playtime_forever': 2736}, {'year_release': 2007, 'playtime_forever': 26774}, {'year_release': 2008, 'playtime_forever': 1362}, {'year_release': 2009, 'playtime_forever': 22795}, {'year_release': 2010, 'playtime_forever': 50015}, {'year_release': 2011, 'playtime_forever': 672427}, {'year_release': 2012, 'playtime_forever': 838691}, {'year_release': 2013, 'playtime_forever': 435487}, {'year_release': 2014, 'playtime_forever': 1022512}, {'year_release': 2015, 'playtime_forever': 3235597}, {'year_release': 2016, 'playtime_forever': 2393917}, {'year_release': 2017, 'playtime_forever': 4433934}]}\n"
     ]
    }
   ],
   "source": [
    "print( UserForGenre('Casual'))"
   ]
  }
 ],
 "metadata": {
  "kernelspec": {
   "display_name": "Python 3",
   "language": "python",
   "name": "python3"
  },
  "language_info": {
   "codemirror_mode": {
    "name": "ipython",
    "version": 3
   },
   "file_extension": ".py",
   "mimetype": "text/x-python",
   "name": "python",
   "nbconvert_exporter": "python",
   "pygments_lexer": "ipython3",
   "version": "3.11.2"
  }
 },
 "nbformat": 4,
 "nbformat_minor": 2
}
