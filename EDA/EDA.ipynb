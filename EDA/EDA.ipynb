{
 "cells": [
  {
   "cell_type": "code",
   "execution_count": 1,
   "metadata": {},
   "outputs": [],
   "source": [
    "#importamos las librerias\n",
    "import pandas as pd\n",
    "import matplotlib.pyplot as plt\n",
    "import seaborn as sns\n",
    "import warnings\n",
    "warnings.filterwarnings(\"ignore\")"
   ]
  },
  {
   "cell_type": "code",
   "execution_count": 4,
   "metadata": {},
   "outputs": [],
   "source": [
    "#cargamos los archivos\n",
    "steam = pd.read_csv('D:\\Desktop\\proyecto entrega 1\\csv\\Output_Steam_limpia.csv', encoding='utf-8') \n",
    "items = pd.read_csv('D:\\Desktop\\proyecto entrega 1\\csv\\\\australian_user_items_limpia.csv', encoding='utf-8') \n",
    "reviews = pd.read_csv('D:\\Desktop\\proyecto entrega 1\\csv\\\\australian_user_reviews_limpia.csv', encoding='utf-8', index_col=0) "
   ]
  },
  {
   "cell_type": "code",
   "execution_count": 5,
   "metadata": {},
   "outputs": [
    {
     "data": {
      "text/html": [
       "<div>\n",
       "<style scoped>\n",
       "    .dataframe tbody tr th:only-of-type {\n",
       "        vertical-align: middle;\n",
       "    }\n",
       "\n",
       "    .dataframe tbody tr th {\n",
       "        vertical-align: top;\n",
       "    }\n",
       "\n",
       "    .dataframe thead th {\n",
       "        text-align: right;\n",
       "    }\n",
       "</style>\n",
       "<table border=\"1\" class=\"dataframe\">\n",
       "  <thead>\n",
       "    <tr style=\"text-align: right;\">\n",
       "      <th></th>\n",
       "      <th>genres</th>\n",
       "      <th>title</th>\n",
       "      <th>id</th>\n",
       "      <th>developer</th>\n",
       "      <th>year_release</th>\n",
       "    </tr>\n",
       "  </thead>\n",
       "  <tbody>\n",
       "    <tr>\n",
       "      <th>0</th>\n",
       "      <td>Action</td>\n",
       "      <td>Lost Summoner Kitty</td>\n",
       "      <td>761140</td>\n",
       "      <td>Kotoshiro</td>\n",
       "      <td>2018</td>\n",
       "    </tr>\n",
       "    <tr>\n",
       "      <th>1</th>\n",
       "      <td>Casual</td>\n",
       "      <td>Lost Summoner Kitty</td>\n",
       "      <td>761140</td>\n",
       "      <td>Kotoshiro</td>\n",
       "      <td>2018</td>\n",
       "    </tr>\n",
       "    <tr>\n",
       "      <th>2</th>\n",
       "      <td>Indie</td>\n",
       "      <td>Lost Summoner Kitty</td>\n",
       "      <td>761140</td>\n",
       "      <td>Kotoshiro</td>\n",
       "      <td>2018</td>\n",
       "    </tr>\n",
       "    <tr>\n",
       "      <th>3</th>\n",
       "      <td>Simulation</td>\n",
       "      <td>Lost Summoner Kitty</td>\n",
       "      <td>761140</td>\n",
       "      <td>Kotoshiro</td>\n",
       "      <td>2018</td>\n",
       "    </tr>\n",
       "    <tr>\n",
       "      <th>4</th>\n",
       "      <td>Strategy</td>\n",
       "      <td>Lost Summoner Kitty</td>\n",
       "      <td>761140</td>\n",
       "      <td>Kotoshiro</td>\n",
       "      <td>2018</td>\n",
       "    </tr>\n",
       "    <tr>\n",
       "      <th>...</th>\n",
       "      <td>...</td>\n",
       "      <td>...</td>\n",
       "      <td>...</td>\n",
       "      <td>...</td>\n",
       "      <td>...</td>\n",
       "    </tr>\n",
       "    <tr>\n",
       "      <th>71546</th>\n",
       "      <td>Indie</td>\n",
       "      <td>Russian Roads</td>\n",
       "      <td>610660</td>\n",
       "      <td>Laush Dmitriy Sergeevich</td>\n",
       "      <td>2018</td>\n",
       "    </tr>\n",
       "    <tr>\n",
       "      <th>71547</th>\n",
       "      <td>Racing</td>\n",
       "      <td>Russian Roads</td>\n",
       "      <td>610660</td>\n",
       "      <td>Laush Dmitriy Sergeevich</td>\n",
       "      <td>2018</td>\n",
       "    </tr>\n",
       "    <tr>\n",
       "      <th>71548</th>\n",
       "      <td>Simulation</td>\n",
       "      <td>Russian Roads</td>\n",
       "      <td>610660</td>\n",
       "      <td>Laush Dmitriy Sergeevich</td>\n",
       "      <td>2018</td>\n",
       "    </tr>\n",
       "    <tr>\n",
       "      <th>71549</th>\n",
       "      <td>Casual</td>\n",
       "      <td>EXIT 2 - Directions</td>\n",
       "      <td>658870</td>\n",
       "      <td>xropi,stev3ns</td>\n",
       "      <td>2017</td>\n",
       "    </tr>\n",
       "    <tr>\n",
       "      <th>71550</th>\n",
       "      <td>Indie</td>\n",
       "      <td>EXIT 2 - Directions</td>\n",
       "      <td>658870</td>\n",
       "      <td>xropi,stev3ns</td>\n",
       "      <td>2017</td>\n",
       "    </tr>\n",
       "  </tbody>\n",
       "</table>\n",
       "<p>71551 rows × 5 columns</p>\n",
       "</div>"
      ],
      "text/plain": [
       "           genres                title      id                 developer  \\\n",
       "0          Action  Lost Summoner Kitty  761140                 Kotoshiro   \n",
       "1          Casual  Lost Summoner Kitty  761140                 Kotoshiro   \n",
       "2           Indie  Lost Summoner Kitty  761140                 Kotoshiro   \n",
       "3      Simulation  Lost Summoner Kitty  761140                 Kotoshiro   \n",
       "4        Strategy  Lost Summoner Kitty  761140                 Kotoshiro   \n",
       "...           ...                  ...     ...                       ...   \n",
       "71546       Indie        Russian Roads  610660  Laush Dmitriy Sergeevich   \n",
       "71547      Racing        Russian Roads  610660  Laush Dmitriy Sergeevich   \n",
       "71548  Simulation        Russian Roads  610660  Laush Dmitriy Sergeevich   \n",
       "71549      Casual  EXIT 2 - Directions  658870             xropi,stev3ns   \n",
       "71550       Indie  EXIT 2 - Directions  658870             xropi,stev3ns   \n",
       "\n",
       "       year_release  \n",
       "0              2018  \n",
       "1              2018  \n",
       "2              2018  \n",
       "3              2018  \n",
       "4              2018  \n",
       "...             ...  \n",
       "71546          2018  \n",
       "71547          2018  \n",
       "71548          2018  \n",
       "71549          2017  \n",
       "71550          2017  \n",
       "\n",
       "[71551 rows x 5 columns]"
      ]
     },
     "execution_count": 5,
     "metadata": {},
     "output_type": "execute_result"
    }
   ],
   "source": [
    "steam"
   ]
  },
  {
   "cell_type": "markdown",
   "metadata": {},
   "source": [
    "Contamos con un total de 71551 registros.\n",
    "Procedemos a revisar si hay valores nulos y los tipos de datos con los que contamos"
   ]
  },
  {
   "cell_type": "code",
   "execution_count": 6,
   "metadata": {},
   "outputs": [
    {
     "data": {
      "text/html": [
       "<div>\n",
       "<style scoped>\n",
       "    .dataframe tbody tr th:only-of-type {\n",
       "        vertical-align: middle;\n",
       "    }\n",
       "\n",
       "    .dataframe tbody tr th {\n",
       "        vertical-align: top;\n",
       "    }\n",
       "\n",
       "    .dataframe thead th {\n",
       "        text-align: right;\n",
       "    }\n",
       "</style>\n",
       "<table border=\"1\" class=\"dataframe\">\n",
       "  <thead>\n",
       "    <tr style=\"text-align: right;\">\n",
       "      <th></th>\n",
       "      <th>Columna</th>\n",
       "      <th>tipo_de_dato</th>\n",
       "      <th>%_no_nulos</th>\n",
       "      <th>%_nulos</th>\n",
       "      <th>nulos</th>\n",
       "    </tr>\n",
       "  </thead>\n",
       "  <tbody>\n",
       "    <tr>\n",
       "      <th>0</th>\n",
       "      <td>genres</td>\n",
       "      <td>[&lt;class 'str'&gt;]</td>\n",
       "      <td>100.00</td>\n",
       "      <td>0.00</td>\n",
       "      <td>0</td>\n",
       "    </tr>\n",
       "    <tr>\n",
       "      <th>1</th>\n",
       "      <td>title</td>\n",
       "      <td>[&lt;class 'str'&gt;, &lt;class 'float'&gt;]</td>\n",
       "      <td>100.00</td>\n",
       "      <td>0.00</td>\n",
       "      <td>2</td>\n",
       "    </tr>\n",
       "    <tr>\n",
       "      <th>2</th>\n",
       "      <td>id</td>\n",
       "      <td>[&lt;class 'int'&gt;]</td>\n",
       "      <td>100.00</td>\n",
       "      <td>0.00</td>\n",
       "      <td>0</td>\n",
       "    </tr>\n",
       "    <tr>\n",
       "      <th>3</th>\n",
       "      <td>developer</td>\n",
       "      <td>[&lt;class 'str'&gt;, &lt;class 'float'&gt;]</td>\n",
       "      <td>99.51</td>\n",
       "      <td>0.49</td>\n",
       "      <td>350</td>\n",
       "    </tr>\n",
       "    <tr>\n",
       "      <th>4</th>\n",
       "      <td>year_release</td>\n",
       "      <td>[&lt;class 'int'&gt;]</td>\n",
       "      <td>100.00</td>\n",
       "      <td>0.00</td>\n",
       "      <td>0</td>\n",
       "    </tr>\n",
       "  </tbody>\n",
       "</table>\n",
       "</div>"
      ],
      "text/plain": [
       "        Columna                      tipo_de_dato  %_no_nulos  %_nulos  nulos\n",
       "0        genres                   [<class 'str'>]      100.00     0.00      0\n",
       "1         title  [<class 'str'>, <class 'float'>]      100.00     0.00      2\n",
       "2            id                   [<class 'int'>]      100.00     0.00      0\n",
       "3     developer  [<class 'str'>, <class 'float'>]       99.51     0.49    350\n",
       "4  year_release                   [<class 'int'>]      100.00     0.00      0"
      ]
     },
     "execution_count": 6,
     "metadata": {},
     "output_type": "execute_result"
    }
   ],
   "source": [
    "def info_nulos(dataframe):\n",
    "    datos = {\"Columna\": [], \"tipo_de_dato\": [], \"%_no_nulos\": [], \"%_nulos\": [], \"nulos\": []}\n",
    "\n",
    "    for columna in dataframe.columns:\n",
    "        no_nulos = (dataframe[columna].count() / len(dataframe)) * 100\n",
    "        datos[\"Columna\"].append(columna)\n",
    "        datos[\"tipo_de_dato\"].append(dataframe[columna].apply(type).unique())\n",
    "        datos[\"%_no_nulos\"].append(round(no_nulos, 2))\n",
    "        datos[\"%_nulos\"].append(round(100-no_nulos, 2))\n",
    "        datos[\"nulos\"].append(dataframe[columna].isnull().sum())\n",
    "\n",
    "    df_info = pd.DataFrame(datos)\n",
    "        \n",
    "    return df_info\n",
    "\n",
    "info_nulos(steam)"
   ]
  },
  {
   "cell_type": "markdown",
   "metadata": {},
   "source": [
    "No se encuentran nulos o al menos no unporcentaje representativo"
   ]
  },
  {
   "cell_type": "markdown",
   "metadata": {},
   "source": [
    "## Analisis Genres"
   ]
  },
  {
   "cell_type": "code",
   "execution_count": 7,
   "metadata": {},
   "outputs": [
    {
     "data": {
      "text/html": [
       "<div>\n",
       "<style scoped>\n",
       "    .dataframe tbody tr th:only-of-type {\n",
       "        vertical-align: middle;\n",
       "    }\n",
       "\n",
       "    .dataframe tbody tr th {\n",
       "        vertical-align: top;\n",
       "    }\n",
       "\n",
       "    .dataframe thead th {\n",
       "        text-align: right;\n",
       "    }\n",
       "</style>\n",
       "<table border=\"1\" class=\"dataframe\">\n",
       "  <thead>\n",
       "    <tr style=\"text-align: right;\">\n",
       "      <th></th>\n",
       "      <th>Cantidad</th>\n",
       "      <th>Porcentaje</th>\n",
       "    </tr>\n",
       "    <tr>\n",
       "      <th>genres</th>\n",
       "      <th></th>\n",
       "      <th></th>\n",
       "    </tr>\n",
       "  </thead>\n",
       "  <tbody>\n",
       "    <tr>\n",
       "      <th>Indie</th>\n",
       "      <td>15858</td>\n",
       "      <td>22.163212</td>\n",
       "    </tr>\n",
       "    <tr>\n",
       "      <th>Action</th>\n",
       "      <td>11319</td>\n",
       "      <td>15.819485</td>\n",
       "    </tr>\n",
       "    <tr>\n",
       "      <th>Casual</th>\n",
       "      <td>8282</td>\n",
       "      <td>11.574961</td>\n",
       "    </tr>\n",
       "    <tr>\n",
       "      <th>Adventure</th>\n",
       "      <td>8242</td>\n",
       "      <td>11.519056</td>\n",
       "    </tr>\n",
       "    <tr>\n",
       "      <th>Strategy</th>\n",
       "      <td>6957</td>\n",
       "      <td>9.723135</td>\n",
       "    </tr>\n",
       "  </tbody>\n",
       "</table>\n",
       "</div>"
      ],
      "text/plain": [
       "           Cantidad  Porcentaje\n",
       "genres                         \n",
       "Indie         15858   22.163212\n",
       "Action        11319   15.819485\n",
       "Casual         8282   11.574961\n",
       "Adventure      8242   11.519056\n",
       "Strategy       6957    9.723135"
      ]
     },
     "execution_count": 7,
     "metadata": {},
     "output_type": "execute_result"
    }
   ],
   "source": [
    "def porcentaje_top_n(df, column, top_n=10):\n",
    "    counts = df[column].value_counts()\n",
    "    total = len(df[column])\n",
    "    percentages = (counts / total) * 100\n",
    "    result_df = pd.DataFrame({'Cantidad': counts, 'Porcentaje': percentages})\n",
    "    \n",
    "    # Filtra para incluir solo los top_n valores más importantes\n",
    "    result_top_n = result_df.head(top_n)\n",
    "    \n",
    "    return result_top_n\n",
    "\n",
    "# Llama a la función con tu DataFrame y la columna 'genres'\n",
    "result_top_5= porcentaje_top_n(steam, 'genres', top_n=5)\n",
    "\n",
    "result_top_5"
   ]
  },
  {
   "cell_type": "code",
   "execution_count": 8,
   "metadata": {},
   "outputs": [
    {
     "data": {
      "image/png": "[encoded data removed]",
      "text/plain": [
       "<Figure size 640x480 with 1 Axes>"
      ]
     },
     "metadata": {},
     "output_type": "display_data"
    }
   ],
   "source": [
    "top_genres = steam['genres'].value_counts().head(5)\n",
    "\n",
    "colores = [\"teal\", \"orange\", \"navy\", \"green\", \"blue\", \"purple\", \"black\", \"pink\", \"red\"]\n",
    "sns.countplot(data=steam[steam['genres'].isin(top_genres.index)], y='genres', order=top_genres.index, palette=colores, legend=False)\n",
    "plt.xticks(rotation=90)\n",
    "plt.xlabel('Cantidad')\n",
    "plt.ylabel('Generos')\n",
    "plt.title('Generos')\n",
    "warnings.filterwarnings(\"ignore\")"
   ]
  },
  {
   "cell_type": "markdown",
   "metadata": {},
   "source": [
    "El genero mas jugado con un 22% es el Indie, seguido de action con un 16% aproximadamente y finalmente los juegos casuales con un 12%."
   ]
  },
  {
   "cell_type": "markdown",
   "metadata": {},
   "source": [
    "## Analisis Title"
   ]
  },
  {
   "cell_type": "code",
   "execution_count": 9,
   "metadata": {},
   "outputs": [
    {
     "data": {
      "text/plain": [
       "28828"
      ]
     },
     "execution_count": 9,
     "metadata": {},
     "output_type": "execute_result"
    }
   ],
   "source": [
    "total_juegos = len(steam['title'].unique())\n",
    "total_juegos"
   ]
  },
  {
   "cell_type": "markdown",
   "metadata": {},
   "source": [
    "Hay un total de 28828 juegos en la base de datos de steam"
   ]
  },
  {
   "cell_type": "markdown",
   "metadata": {},
   "source": [
    "## Analisis Developer"
   ]
  },
  {
   "cell_type": "code",
   "execution_count": 10,
   "metadata": {},
   "outputs": [
    {
     "data": {
      "image/png": "[encoded data removed]",
      "text/plain": [
       "<Figure size 640x480 with 1 Axes>"
      ]
     },
     "metadata": {},
     "output_type": "display_data"
    }
   ],
   "source": [
    "# Cantidad de juegos\n",
    "developer = steam['developer'].value_counts()\n",
    "\n",
    "# Selecciona los 5 principales desarrolladores en orden descendente\n",
    "top_developers = developer.sort_values(ascending=False).head(5)\n",
    "\n",
    "# Crea un gráfico de barras\n",
    "plt.figure()\n",
    "colores = [\"teal\", \"orange\", \"navy\", \"green\", \"blue\", \"purple\", \"black\"]\n",
    "sns.barplot(x=top_developers.index, y=top_developers.values, hue=top_developers.index, palette=colores, dodge=False)\n",
    "plt.xticks(rotation=90)\n",
    "plt.xlabel('Developer')\n",
    "plt.ylabel('Cantidad de juegos')\n",
    "plt.title('Top 5 Developers')\n",
    "warnings.filterwarnings(\"ignore\")\n",
    "plt.show()"
   ]
  },
  {
   "cell_type": "markdown",
   "metadata": {},
   "source": [
    "Ubisoft y SmiteWorks son los que mas juegos han desarrollado "
   ]
  },
  {
   "cell_type": "markdown",
   "metadata": {},
   "source": [
    "## Analisis Year"
   ]
  },
  {
   "cell_type": "code",
   "execution_count": 11,
   "metadata": {},
   "outputs": [
    {
     "data": {
      "text/html": [
       "<div>\n",
       "<style scoped>\n",
       "    .dataframe tbody tr th:only-of-type {\n",
       "        vertical-align: middle;\n",
       "    }\n",
       "\n",
       "    .dataframe tbody tr th {\n",
       "        vertical-align: top;\n",
       "    }\n",
       "\n",
       "    .dataframe thead th {\n",
       "        text-align: right;\n",
       "    }\n",
       "</style>\n",
       "<table border=\"1\" class=\"dataframe\">\n",
       "  <thead>\n",
       "    <tr style=\"text-align: right;\">\n",
       "      <th></th>\n",
       "      <th>Cantidad</th>\n",
       "      <th>Porcentaje</th>\n",
       "    </tr>\n",
       "    <tr>\n",
       "      <th>year_release</th>\n",
       "      <th></th>\n",
       "      <th></th>\n",
       "    </tr>\n",
       "  </thead>\n",
       "  <tbody>\n",
       "    <tr>\n",
       "      <th>2017</th>\n",
       "      <td>24967</td>\n",
       "      <td>34.893992</td>\n",
       "    </tr>\n",
       "    <tr>\n",
       "      <th>2016</th>\n",
       "      <td>17667</td>\n",
       "      <td>24.691479</td>\n",
       "    </tr>\n",
       "    <tr>\n",
       "      <th>2015</th>\n",
       "      <td>13106</td>\n",
       "      <td>18.317005</td>\n",
       "    </tr>\n",
       "    <tr>\n",
       "      <th>2014</th>\n",
       "      <td>6341</td>\n",
       "      <td>8.862210</td>\n",
       "    </tr>\n",
       "    <tr>\n",
       "      <th>2013</th>\n",
       "      <td>3016</td>\n",
       "      <td>4.215175</td>\n",
       "    </tr>\n",
       "  </tbody>\n",
       "</table>\n",
       "</div>"
      ],
      "text/plain": [
       "              Cantidad  Porcentaje\n",
       "year_release                      \n",
       "2017             24967   34.893992\n",
       "2016             17667   24.691479\n",
       "2015             13106   18.317005\n",
       "2014              6341    8.862210\n",
       "2013              3016    4.215175"
      ]
     },
     "execution_count": 11,
     "metadata": {},
     "output_type": "execute_result"
    }
   ],
   "source": [
    "def porcentaje_top_n(df, column, top_n=10):\n",
    "    counts = df[column].value_counts()\n",
    "    total = len(df[column])\n",
    "    percentages = (counts / total) * 100\n",
    "    result_df = pd.DataFrame({'Cantidad': counts, 'Porcentaje': percentages})\n",
    "    \n",
    "    # Filtra para incluir solo los top_n valores más importantes\n",
    "    result_top_n = result_df.head(top_n)\n",
    "    \n",
    "    return result_top_n\n",
    "\n",
    "# Llama a la función con tu DataFrame y la columna 'genres'\n",
    "result_top_5= porcentaje_top_n(steam, 'year_release', top_n=5)\n",
    "\n",
    "result_top_5"
   ]
  },
  {
   "cell_type": "code",
   "execution_count": 12,
   "metadata": {},
   "outputs": [
    {
     "data": {
      "image/png": "[encoded data removed]",
      "text/plain": [
       "<Figure size 640x480 with 1 Axes>"
      ]
     },
     "metadata": {},
     "output_type": "display_data"
    }
   ],
   "source": [
    "# Cantidad de juegos\n",
    "year = steam['year_release'].value_counts()\n",
    "\n",
    "# Selecciona los 5 años con más desarrollo\n",
    "top_anio = year.sort_values(ascending=False).head(5)\n",
    "\n",
    "# Invierte el orden de los índices (años) para que aparezcan de mayor a menor en el gráfico\n",
    "top_anio = top_anio[::-1]\n",
    "\n",
    "# Crea un gráfico de barras\n",
    "plt.figure()\n",
    "colores = [\"teal\", \"orange\", \"navy\", \"green\", \"blue\", \"purple\", \"black\"]\n",
    "sns.barplot(x=top_anio.index, y=top_anio.values, palette=colores)\n",
    "plt.xticks(rotation=90)\n",
    "plt.xlabel('Años')\n",
    "plt.ylabel('Cantidad de juegos')\n",
    "plt.title('Top 5 años con más desarrollo de juegos')\n",
    "warnings.filterwarnings(\"ignore\")\n",
    "plt.show()"
   ]
  },
  {
   "cell_type": "markdown",
   "metadata": {},
   "source": [
    "En el grafico anterior se puede evidenciar los 5 años con mas lanzamientos de juegos en la plataforma, siendo el 2017 el año con mas lanzamientos, cerca del 35% de los juegos se lanzaron en este año."
   ]
  },
  {
   "cell_type": "markdown",
   "metadata": {},
   "source": [
    "Guardamos el data set"
   ]
  },
  {
   "cell_type": "code",
   "execution_count": 13,
   "metadata": {},
   "outputs": [
    {
     "name": "stdout",
     "output_type": "stream",
     "text": [
      "Se guardó el archivo \n"
     ]
    }
   ],
   "source": [
    "steam.to_csv('Output_Steam_limpia_eda.csv')\n",
    "print(f'Se guardó el archivo ')"
   ]
  },
  {
   "cell_type": "markdown",
   "metadata": {},
   "source": [
    "EDA Australian User Items"
   ]
  },
  {
   "cell_type": "code",
   "execution_count": 14,
   "metadata": {},
   "outputs": [
    {
     "data": {
      "text/html": [
       "<div>\n",
       "<style scoped>\n",
       "    .dataframe tbody tr th:only-of-type {\n",
       "        vertical-align: middle;\n",
       "    }\n",
       "\n",
       "    .dataframe tbody tr th {\n",
       "        vertical-align: top;\n",
       "    }\n",
       "\n",
       "    .dataframe thead th {\n",
       "        text-align: right;\n",
       "    }\n",
       "</style>\n",
       "<table border=\"1\" class=\"dataframe\">\n",
       "  <thead>\n",
       "    <tr style=\"text-align: right;\">\n",
       "      <th></th>\n",
       "      <th>item_id</th>\n",
       "      <th>item_name</th>\n",
       "      <th>playtime_forever</th>\n",
       "      <th>items_count</th>\n",
       "      <th>user_id</th>\n",
       "    </tr>\n",
       "  </thead>\n",
       "  <tbody>\n",
       "    <tr>\n",
       "      <th>0</th>\n",
       "      <td>10</td>\n",
       "      <td>Counter-Strike</td>\n",
       "      <td>6</td>\n",
       "      <td>277</td>\n",
       "      <td>76561197970982479</td>\n",
       "    </tr>\n",
       "    <tr>\n",
       "      <th>1</th>\n",
       "      <td>20</td>\n",
       "      <td>Team Fortress Classic</td>\n",
       "      <td>0</td>\n",
       "      <td>277</td>\n",
       "      <td>76561197970982479</td>\n",
       "    </tr>\n",
       "    <tr>\n",
       "      <th>2</th>\n",
       "      <td>30</td>\n",
       "      <td>Day of Defeat</td>\n",
       "      <td>7</td>\n",
       "      <td>277</td>\n",
       "      <td>76561197970982479</td>\n",
       "    </tr>\n",
       "    <tr>\n",
       "      <th>3</th>\n",
       "      <td>40</td>\n",
       "      <td>Deathmatch Classic</td>\n",
       "      <td>0</td>\n",
       "      <td>277</td>\n",
       "      <td>76561197970982479</td>\n",
       "    </tr>\n",
       "    <tr>\n",
       "      <th>4</th>\n",
       "      <td>50</td>\n",
       "      <td>Half-Life: Opposing Force</td>\n",
       "      <td>0</td>\n",
       "      <td>277</td>\n",
       "      <td>76561197970982479</td>\n",
       "    </tr>\n",
       "    <tr>\n",
       "      <th>...</th>\n",
       "      <td>...</td>\n",
       "      <td>...</td>\n",
       "      <td>...</td>\n",
       "      <td>...</td>\n",
       "      <td>...</td>\n",
       "    </tr>\n",
       "    <tr>\n",
       "      <th>5094077</th>\n",
       "      <td>346330</td>\n",
       "      <td>BrainBread 2</td>\n",
       "      <td>0</td>\n",
       "      <td>7</td>\n",
       "      <td>76561198329548331</td>\n",
       "    </tr>\n",
       "    <tr>\n",
       "      <th>5094078</th>\n",
       "      <td>373330</td>\n",
       "      <td>All Is Dust</td>\n",
       "      <td>0</td>\n",
       "      <td>7</td>\n",
       "      <td>76561198329548331</td>\n",
       "    </tr>\n",
       "    <tr>\n",
       "      <th>5094079</th>\n",
       "      <td>388490</td>\n",
       "      <td>One Way To Die: Steam Edition</td>\n",
       "      <td>3</td>\n",
       "      <td>7</td>\n",
       "      <td>76561198329548331</td>\n",
       "    </tr>\n",
       "    <tr>\n",
       "      <th>5094080</th>\n",
       "      <td>521570</td>\n",
       "      <td>You Have 10 Seconds 2</td>\n",
       "      <td>4</td>\n",
       "      <td>7</td>\n",
       "      <td>76561198329548331</td>\n",
       "    </tr>\n",
       "    <tr>\n",
       "      <th>5094081</th>\n",
       "      <td>519140</td>\n",
       "      <td>Minds Eyes</td>\n",
       "      <td>3</td>\n",
       "      <td>7</td>\n",
       "      <td>76561198329548331</td>\n",
       "    </tr>\n",
       "  </tbody>\n",
       "</table>\n",
       "<p>5094082 rows × 5 columns</p>\n",
       "</div>"
      ],
      "text/plain": [
       "         item_id                      item_name  playtime_forever  \\\n",
       "0             10                 Counter-Strike                 6   \n",
       "1             20          Team Fortress Classic                 0   \n",
       "2             30                  Day of Defeat                 7   \n",
       "3             40             Deathmatch Classic                 0   \n",
       "4             50      Half-Life: Opposing Force                 0   \n",
       "...          ...                            ...               ...   \n",
       "5094077   346330                   BrainBread 2                 0   \n",
       "5094078   373330                    All Is Dust                 0   \n",
       "5094079   388490  One Way To Die: Steam Edition                 3   \n",
       "5094080   521570          You Have 10 Seconds 2                 4   \n",
       "5094081   519140                     Minds Eyes                 3   \n",
       "\n",
       "         items_count            user_id  \n",
       "0                277  76561197970982479  \n",
       "1                277  76561197970982479  \n",
       "2                277  76561197970982479  \n",
       "3                277  76561197970982479  \n",
       "4                277  76561197970982479  \n",
       "...              ...                ...  \n",
       "5094077            7  76561198329548331  \n",
       "5094078            7  76561198329548331  \n",
       "5094079            7  76561198329548331  \n",
       "5094080            7  76561198329548331  \n",
       "5094081            7  76561198329548331  \n",
       "\n",
       "[5094082 rows x 5 columns]"
      ]
     },
     "execution_count": 14,
     "metadata": {},
     "output_type": "execute_result"
    }
   ],
   "source": [
    "items"
   ]
  },
  {
   "cell_type": "markdown",
   "metadata": {},
   "source": [
    "Se cuenta con un total de 5.094.060 filas x 6 columnas\n",
    "Procedemos a revisar si hay valores nulos y los tipos de datos con los que contamos"
   ]
  },
  {
   "cell_type": "code",
   "execution_count": 15,
   "metadata": {},
   "outputs": [
    {
     "data": {
      "text/html": [
       "<div>\n",
       "<style scoped>\n",
       "    .dataframe tbody tr th:only-of-type {\n",
       "        vertical-align: middle;\n",
       "    }\n",
       "\n",
       "    .dataframe tbody tr th {\n",
       "        vertical-align: top;\n",
       "    }\n",
       "\n",
       "    .dataframe thead th {\n",
       "        text-align: right;\n",
       "    }\n",
       "</style>\n",
       "<table border=\"1\" class=\"dataframe\">\n",
       "  <thead>\n",
       "    <tr style=\"text-align: right;\">\n",
       "      <th></th>\n",
       "      <th>Columna</th>\n",
       "      <th>tipo_de_dato</th>\n",
       "      <th>%_no_nulos</th>\n",
       "      <th>%_nulos</th>\n",
       "      <th>nulos</th>\n",
       "    </tr>\n",
       "  </thead>\n",
       "  <tbody>\n",
       "    <tr>\n",
       "      <th>0</th>\n",
       "      <td>item_id</td>\n",
       "      <td>[&lt;class 'int'&gt;]</td>\n",
       "      <td>100.0</td>\n",
       "      <td>0.0</td>\n",
       "      <td>0</td>\n",
       "    </tr>\n",
       "    <tr>\n",
       "      <th>1</th>\n",
       "      <td>item_name</td>\n",
       "      <td>[&lt;class 'str'&gt;]</td>\n",
       "      <td>100.0</td>\n",
       "      <td>0.0</td>\n",
       "      <td>0</td>\n",
       "    </tr>\n",
       "    <tr>\n",
       "      <th>2</th>\n",
       "      <td>playtime_forever</td>\n",
       "      <td>[&lt;class 'int'&gt;]</td>\n",
       "      <td>100.0</td>\n",
       "      <td>0.0</td>\n",
       "      <td>0</td>\n",
       "    </tr>\n",
       "    <tr>\n",
       "      <th>3</th>\n",
       "      <td>items_count</td>\n",
       "      <td>[&lt;class 'int'&gt;]</td>\n",
       "      <td>100.0</td>\n",
       "      <td>0.0</td>\n",
       "      <td>0</td>\n",
       "    </tr>\n",
       "    <tr>\n",
       "      <th>4</th>\n",
       "      <td>user_id</td>\n",
       "      <td>[&lt;class 'str'&gt;]</td>\n",
       "      <td>100.0</td>\n",
       "      <td>0.0</td>\n",
       "      <td>0</td>\n",
       "    </tr>\n",
       "  </tbody>\n",
       "</table>\n",
       "</div>"
      ],
      "text/plain": [
       "            Columna     tipo_de_dato  %_no_nulos  %_nulos  nulos\n",
       "0           item_id  [<class 'int'>]       100.0      0.0      0\n",
       "1         item_name  [<class 'str'>]       100.0      0.0      0\n",
       "2  playtime_forever  [<class 'int'>]       100.0      0.0      0\n",
       "3       items_count  [<class 'int'>]       100.0      0.0      0\n",
       "4           user_id  [<class 'str'>]       100.0      0.0      0"
      ]
     },
     "execution_count": 15,
     "metadata": {},
     "output_type": "execute_result"
    }
   ],
   "source": [
    "def info_nulos(dataframe):\n",
    "    datos = {\"Columna\": [], \"tipo_de_dato\": [], \"%_no_nulos\": [], \"%_nulos\": [], \"nulos\": []}\n",
    "\n",
    "    for columna in dataframe.columns:\n",
    "        no_nulos = (dataframe[columna].count() / len(dataframe)) * 100\n",
    "        datos[\"Columna\"].append(columna)\n",
    "        datos[\"tipo_de_dato\"].append(dataframe[columna].apply(type).unique())\n",
    "        datos[\"%_no_nulos\"].append(round(no_nulos, 2))\n",
    "        datos[\"%_nulos\"].append(round(100-no_nulos, 2))\n",
    "        datos[\"nulos\"].append(dataframe[columna].isnull().sum())\n",
    "\n",
    "    df_info = pd.DataFrame(datos)\n",
    "        \n",
    "    return df_info\n",
    "\n",
    "info_nulos(items)"
   ]
  },
  {
   "cell_type": "markdown",
   "metadata": {},
   "source": [
    "No se encuentran valores nulos"
   ]
  },
  {
   "cell_type": "markdown",
   "metadata": {},
   "source": [
    "## Analisis Playtime Forever"
   ]
  },
  {
   "cell_type": "markdown",
   "metadata": {},
   "source": [
    "En esta columna se encuentra el tiempo en minutos jugado por usuario."
   ]
  },
  {
   "cell_type": "code",
   "execution_count": 16,
   "metadata": {},
   "outputs": [
    {
     "data": {
      "image/png": "[encoded data removed]",
      "text/plain": [
       "<Figure size 1400x400 with 2 Axes>"
      ]
     },
     "metadata": {},
     "output_type": "display_data"
    }
   ],
   "source": [
    "items['playtime_hours'] = items['playtime_forever'] / 60\n",
    "\n",
    "tamaño_figura = plt.figure(figsize=(14, 4))\n",
    "\n",
    "ax1 = tamaño_figura.add_subplot(211)\n",
    "sns.stripplot(data=items, x='playtime_hours', ax=ax1)\n",
    "ax1.set_xlabel('Horas') ; ax1.set_ylabel('Cantidad de Juegos') ; ax1.set_title('Distribución de horas jugadas')\n",
    "\n",
    "ax2 = tamaño_figura.add_subplot(212, sharex=ax1)\n",
    "sns.boxplot(data=items, x='playtime_hours', ax=ax2)\n",
    "ax2.set_xlabel('Horas') ; ax2.set_ylabel('Cantidad de Juegos')\n",
    "\n",
    "\n",
    "plt.tight_layout()\n",
    "plt.show()"
   ]
  },
  {
   "cell_type": "code",
   "execution_count": 17,
   "metadata": {},
   "outputs": [],
   "source": [
    "estadisticas = items['playtime_hours'].describe()"
   ]
  },
  {
   "cell_type": "code",
   "execution_count": 18,
   "metadata": {},
   "outputs": [
    {
     "name": "stdout",
     "output_type": "stream",
     "text": [
      "El tiempo medio (mediana) de  juego es de: 0.57\n",
      "El tiempo promedio (mean) de  juegos es de: 16.51\n",
      "El 75% de los jugadores pasa un total de : 5.92\n"
     ]
    }
   ],
   "source": [
    "print(f'El tiempo medio (mediana) de  juego es de: {round(estadisticas[5],2)}')\n",
    "print(f'El tiempo promedio (mean) de  juegos es de: {round(estadisticas[1],2)}')\n",
    "print(f'El 75% de los jugadores pasa un total de : {round(estadisticas[6],2)}')\n"
   ]
  },
  {
   "cell_type": "markdown",
   "metadata": {},
   "source": [
    "Se observa que cada jugador pasa un tiempo medio de 0.57 horas,  en promedio juegan 16 horas y el 75% de los usuarios  estuvieron menos de 6 horas jugando.\n",
    "En promedio los usuarios pasan 16.5 horas jugando y  el 75% de los usuarios ha pasado 6 horas jugando. Se observa una gran cantidad de valores atipicos por encima de las 16.51 horas esto se puede deber al uso de bots usados en los perfiles de los usuarios. "
   ]
  },
  {
   "cell_type": "markdown",
   "metadata": {},
   "source": [
    "## Analisis Items Count"
   ]
  },
  {
   "cell_type": "code",
   "execution_count": 19,
   "metadata": {},
   "outputs": [
    {
     "data": {
      "text/html": [
       "<div>\n",
       "<style scoped>\n",
       "    .dataframe tbody tr th:only-of-type {\n",
       "        vertical-align: middle;\n",
       "    }\n",
       "\n",
       "    .dataframe tbody tr th {\n",
       "        vertical-align: top;\n",
       "    }\n",
       "\n",
       "    .dataframe thead th {\n",
       "        text-align: right;\n",
       "    }\n",
       "</style>\n",
       "<table border=\"1\" class=\"dataframe\">\n",
       "  <thead>\n",
       "    <tr style=\"text-align: right;\">\n",
       "      <th></th>\n",
       "      <th>items_count</th>\n",
       "    </tr>\n",
       "    <tr>\n",
       "      <th>user_id</th>\n",
       "      <th></th>\n",
       "    </tr>\n",
       "  </thead>\n",
       "  <tbody>\n",
       "    <tr>\n",
       "      <th>phrostb</th>\n",
       "      <td>7762</td>\n",
       "    </tr>\n",
       "    <tr>\n",
       "      <th>thugnificent</th>\n",
       "      <td>6700</td>\n",
       "    </tr>\n",
       "    <tr>\n",
       "      <th>chidvd</th>\n",
       "      <td>6410</td>\n",
       "    </tr>\n",
       "    <tr>\n",
       "      <th>piepai</th>\n",
       "      <td>6132</td>\n",
       "    </tr>\n",
       "    <tr>\n",
       "      <th>mayshowganmore</th>\n",
       "      <td>5027</td>\n",
       "    </tr>\n",
       "    <tr>\n",
       "      <th>...</th>\n",
       "      <td>...</td>\n",
       "    </tr>\n",
       "    <tr>\n",
       "      <th>76561198092978311</th>\n",
       "      <td>1</td>\n",
       "    </tr>\n",
       "    <tr>\n",
       "      <th>76561198092984441</th>\n",
       "      <td>1</td>\n",
       "    </tr>\n",
       "    <tr>\n",
       "      <th>76561198092985047</th>\n",
       "      <td>1</td>\n",
       "    </tr>\n",
       "    <tr>\n",
       "      <th>76561198092995747</th>\n",
       "      <td>1</td>\n",
       "    </tr>\n",
       "    <tr>\n",
       "      <th>JMCaesar</th>\n",
       "      <td>1</td>\n",
       "    </tr>\n",
       "  </tbody>\n",
       "</table>\n",
       "<p>70912 rows × 1 columns</p>\n",
       "</div>"
      ],
      "text/plain": [
       "                  items_count\n",
       "user_id                      \n",
       "phrostb                  7762\n",
       "thugnificent             6700\n",
       "chidvd                   6410\n",
       "piepai                   6132\n",
       "mayshowganmore           5027\n",
       "...                       ...\n",
       "76561198092978311           1\n",
       "76561198092984441           1\n",
       "76561198092985047           1\n",
       "76561198092995747           1\n",
       "JMCaesar                    1\n",
       "\n",
       "[70912 rows x 1 columns]"
      ]
     },
     "execution_count": 19,
     "metadata": {},
     "output_type": "execute_result"
    }
   ],
   "source": [
    "user_items= items.groupby('user_id')['items_count'].unique().explode()\n",
    "user_items = pd.DataFrame(user_items)\n",
    "user_items = user_items.sort_values('items_count', ascending=False)\n",
    "\n",
    "user_items"
   ]
  },
  {
   "cell_type": "code",
   "execution_count": 20,
   "metadata": {},
   "outputs": [
    {
     "data": {
      "text/plain": [
       "<Figure size 1600x600 with 0 Axes>"
      ]
     },
     "metadata": {},
     "output_type": "display_data"
    },
    {
     "data": {
      "image/png": "[encoded data removed]",
      "text/plain": [
       "<Figure size 640x480 with 1 Axes>"
      ]
     },
     "metadata": {},
     "output_type": "display_data"
    }
   ],
   "source": [
    "# Grafica cantidad de item por usuarios\n",
    "colores = [\"teal\",\"orange\", \"navy\", \"green\", \"blue\", \"purple\", \"black\", \"pink\", \"red\"]\n",
    "plt.figure(figsize=(16, 6))\n",
    "user_items[:20].plot(kind='bar', color=colores[:len(user_items)])\n",
    "plt.xlabel('Usuario') ; plt.ylabel('Cantidad de Juegos') ; plt.title('Top 20 item_count por usuario')\n",
    "plt.show()"
   ]
  },
  {
   "cell_type": "code",
   "execution_count": 21,
   "metadata": {},
   "outputs": [
    {
     "name": "stdout",
     "output_type": "stream",
     "text": [
      "count   5094082.00\n",
      "mean        315.73\n",
      "std         696.91\n",
      "min           1.00\n",
      "25%          71.00\n",
      "50%         137.00\n",
      "75%         275.00\n",
      "max        7762.00\n",
      "Name: items_count, dtype: float64\n"
     ]
    }
   ],
   "source": [
    "pd.options.display.float_format = '{:.2f}'.format\n",
    "print(items['items_count'].describe())"
   ]
  },
  {
   "cell_type": "markdown",
   "metadata": {},
   "source": [
    "El usuario que mayor cantidad de items tiene es Phrostb con un total de 7762, el 75%  de los jugadores han adquirido al menos 276 juegos."
   ]
  },
  {
   "cell_type": "markdown",
   "metadata": {},
   "source": [
    "guardamos el dataset"
   ]
  },
  {
   "cell_type": "code",
   "execution_count": 22,
   "metadata": {},
   "outputs": [
    {
     "name": "stdout",
     "output_type": "stream",
     "text": [
      "Se guardó el archivo \"australian_user_items_limpia_eda.csv\"\n"
     ]
    }
   ],
   "source": [
    "items.to_csv('australian_user_items_limpia_eda.csv')\n",
    "print('Se guardó el archivo \"australian_user_items_limpia_eda.csv\"')"
   ]
  },
  {
   "cell_type": "markdown",
   "metadata": {},
   "source": [
    "EDA Australian User Reviews"
   ]
  },
  {
   "cell_type": "code",
   "execution_count": 23,
   "metadata": {},
   "outputs": [
    {
     "data": {
      "text/html": [
       "<div>\n",
       "<style scoped>\n",
       "    .dataframe tbody tr th:only-of-type {\n",
       "        vertical-align: middle;\n",
       "    }\n",
       "\n",
       "    .dataframe tbody tr th {\n",
       "        vertical-align: top;\n",
       "    }\n",
       "\n",
       "    .dataframe thead th {\n",
       "        text-align: right;\n",
       "    }\n",
       "</style>\n",
       "<table border=\"1\" class=\"dataframe\">\n",
       "  <thead>\n",
       "    <tr style=\"text-align: right;\">\n",
       "      <th></th>\n",
       "      <th>item_id</th>\n",
       "      <th>recommend</th>\n",
       "      <th>user_id</th>\n",
       "      <th>sentiment_analysis</th>\n",
       "      <th>year_review</th>\n",
       "    </tr>\n",
       "  </thead>\n",
       "  <tbody>\n",
       "    <tr>\n",
       "      <th>0</th>\n",
       "      <td>1250</td>\n",
       "      <td>True</td>\n",
       "      <td>76561197970982479</td>\n",
       "      <td>2</td>\n",
       "      <td>2011</td>\n",
       "    </tr>\n",
       "    <tr>\n",
       "      <th>1</th>\n",
       "      <td>22200</td>\n",
       "      <td>True</td>\n",
       "      <td>76561197970982479</td>\n",
       "      <td>1</td>\n",
       "      <td>2011</td>\n",
       "    </tr>\n",
       "    <tr>\n",
       "      <th>2</th>\n",
       "      <td>43110</td>\n",
       "      <td>True</td>\n",
       "      <td>76561197970982479</td>\n",
       "      <td>2</td>\n",
       "      <td>2011</td>\n",
       "    </tr>\n",
       "    <tr>\n",
       "      <th>3</th>\n",
       "      <td>251610</td>\n",
       "      <td>True</td>\n",
       "      <td>js41637</td>\n",
       "      <td>2</td>\n",
       "      <td>2014</td>\n",
       "    </tr>\n",
       "    <tr>\n",
       "      <th>4</th>\n",
       "      <td>227300</td>\n",
       "      <td>True</td>\n",
       "      <td>js41637</td>\n",
       "      <td>2</td>\n",
       "      <td>2013</td>\n",
       "    </tr>\n",
       "    <tr>\n",
       "      <th>...</th>\n",
       "      <td>...</td>\n",
       "      <td>...</td>\n",
       "      <td>...</td>\n",
       "      <td>...</td>\n",
       "      <td>...</td>\n",
       "    </tr>\n",
       "    <tr>\n",
       "      <th>58425</th>\n",
       "      <td>70</td>\n",
       "      <td>True</td>\n",
       "      <td>76561198312638244</td>\n",
       "      <td>2</td>\n",
       "      <td>2014</td>\n",
       "    </tr>\n",
       "    <tr>\n",
       "      <th>58426</th>\n",
       "      <td>362890</td>\n",
       "      <td>True</td>\n",
       "      <td>76561198312638244</td>\n",
       "      <td>2</td>\n",
       "      <td>2014</td>\n",
       "    </tr>\n",
       "    <tr>\n",
       "      <th>58427</th>\n",
       "      <td>273110</td>\n",
       "      <td>True</td>\n",
       "      <td>LydiaMorley</td>\n",
       "      <td>2</td>\n",
       "      <td>2014</td>\n",
       "    </tr>\n",
       "    <tr>\n",
       "      <th>58428</th>\n",
       "      <td>730</td>\n",
       "      <td>True</td>\n",
       "      <td>LydiaMorley</td>\n",
       "      <td>2</td>\n",
       "      <td>2014</td>\n",
       "    </tr>\n",
       "    <tr>\n",
       "      <th>58429</th>\n",
       "      <td>440</td>\n",
       "      <td>True</td>\n",
       "      <td>LydiaMorley</td>\n",
       "      <td>2</td>\n",
       "      <td>2014</td>\n",
       "    </tr>\n",
       "  </tbody>\n",
       "</table>\n",
       "<p>58430 rows × 5 columns</p>\n",
       "</div>"
      ],
      "text/plain": [
       "       item_id  recommend            user_id  sentiment_analysis  year_review\n",
       "0         1250       True  76561197970982479                   2         2011\n",
       "1        22200       True  76561197970982479                   1         2011\n",
       "2        43110       True  76561197970982479                   2         2011\n",
       "3       251610       True            js41637                   2         2014\n",
       "4       227300       True            js41637                   2         2013\n",
       "...        ...        ...                ...                 ...          ...\n",
       "58425       70       True  76561198312638244                   2         2014\n",
       "58426   362890       True  76561198312638244                   2         2014\n",
       "58427   273110       True        LydiaMorley                   2         2014\n",
       "58428      730       True        LydiaMorley                   2         2014\n",
       "58429      440       True        LydiaMorley                   2         2014\n",
       "\n",
       "[58430 rows x 5 columns]"
      ]
     },
     "execution_count": 23,
     "metadata": {},
     "output_type": "execute_result"
    }
   ],
   "source": [
    "reviews"
   ]
  },
  {
   "cell_type": "markdown",
   "metadata": {},
   "source": [
    "Contamos con un total de 58.430 registros.\n",
    "Procedemos a revisar si hay valores nulos y los tipos de datos con los que contamos"
   ]
  },
  {
   "cell_type": "code",
   "execution_count": 24,
   "metadata": {},
   "outputs": [
    {
     "data": {
      "text/html": [
       "<div>\n",
       "<style scoped>\n",
       "    .dataframe tbody tr th:only-of-type {\n",
       "        vertical-align: middle;\n",
       "    }\n",
       "\n",
       "    .dataframe tbody tr th {\n",
       "        vertical-align: top;\n",
       "    }\n",
       "\n",
       "    .dataframe thead th {\n",
       "        text-align: right;\n",
       "    }\n",
       "</style>\n",
       "<table border=\"1\" class=\"dataframe\">\n",
       "  <thead>\n",
       "    <tr style=\"text-align: right;\">\n",
       "      <th></th>\n",
       "      <th>Columna</th>\n",
       "      <th>tipo_de_dato</th>\n",
       "      <th>%_no_nulos</th>\n",
       "      <th>%_nulos</th>\n",
       "      <th>nulos</th>\n",
       "    </tr>\n",
       "  </thead>\n",
       "  <tbody>\n",
       "    <tr>\n",
       "      <th>0</th>\n",
       "      <td>item_id</td>\n",
       "      <td>[&lt;class 'int'&gt;]</td>\n",
       "      <td>100.00</td>\n",
       "      <td>0.00</td>\n",
       "      <td>0</td>\n",
       "    </tr>\n",
       "    <tr>\n",
       "      <th>1</th>\n",
       "      <td>recommend</td>\n",
       "      <td>[&lt;class 'bool'&gt;]</td>\n",
       "      <td>100.00</td>\n",
       "      <td>0.00</td>\n",
       "      <td>0</td>\n",
       "    </tr>\n",
       "    <tr>\n",
       "      <th>2</th>\n",
       "      <td>user_id</td>\n",
       "      <td>[&lt;class 'str'&gt;]</td>\n",
       "      <td>100.00</td>\n",
       "      <td>0.00</td>\n",
       "      <td>0</td>\n",
       "    </tr>\n",
       "    <tr>\n",
       "      <th>3</th>\n",
       "      <td>sentiment_analysis</td>\n",
       "      <td>[&lt;class 'int'&gt;]</td>\n",
       "      <td>100.00</td>\n",
       "      <td>0.00</td>\n",
       "      <td>0</td>\n",
       "    </tr>\n",
       "    <tr>\n",
       "      <th>4</th>\n",
       "      <td>year_review</td>\n",
       "      <td>[&lt;class 'int'&gt;]</td>\n",
       "      <td>100.00</td>\n",
       "      <td>0.00</td>\n",
       "      <td>0</td>\n",
       "    </tr>\n",
       "  </tbody>\n",
       "</table>\n",
       "</div>"
      ],
      "text/plain": [
       "              Columna      tipo_de_dato  %_no_nulos  %_nulos  nulos\n",
       "0             item_id   [<class 'int'>]      100.00     0.00      0\n",
       "1           recommend  [<class 'bool'>]      100.00     0.00      0\n",
       "2             user_id   [<class 'str'>]      100.00     0.00      0\n",
       "3  sentiment_analysis   [<class 'int'>]      100.00     0.00      0\n",
       "4         year_review   [<class 'int'>]      100.00     0.00      0"
      ]
     },
     "execution_count": 24,
     "metadata": {},
     "output_type": "execute_result"
    }
   ],
   "source": [
    "def info_nulos(dataframe):\n",
    "    datos = {\"Columna\": [], \"tipo_de_dato\": [], \"%_no_nulos\": [], \"%_nulos\": [], \"nulos\": []}\n",
    "\n",
    "    for columna in dataframe.columns:\n",
    "        no_nulos = (dataframe[columna].count() / len(dataframe)) * 100\n",
    "        datos[\"Columna\"].append(columna)\n",
    "        datos[\"tipo_de_dato\"].append(dataframe[columna].apply(type).unique())\n",
    "        datos[\"%_no_nulos\"].append(round(no_nulos, 2))\n",
    "        datos[\"%_nulos\"].append(round(100-no_nulos, 2))\n",
    "        datos[\"nulos\"].append(dataframe[columna].isnull().sum())\n",
    "\n",
    "    df_info = pd.DataFrame(datos)\n",
    "        \n",
    "    return df_info\n",
    "\n",
    "info_nulos(reviews)"
   ]
  },
  {
   "cell_type": "markdown",
   "metadata": {},
   "source": [
    "## Analisis de  columna  items_id"
   ]
  },
  {
   "cell_type": "markdown",
   "metadata": {},
   "source": [
    "No se escuentran valores nulos"
   ]
  },
  {
   "cell_type": "code",
   "execution_count": 25,
   "metadata": {},
   "outputs": [
    {
     "data": {
      "text/html": [
       "<div>\n",
       "<style scoped>\n",
       "    .dataframe tbody tr th:only-of-type {\n",
       "        vertical-align: middle;\n",
       "    }\n",
       "\n",
       "    .dataframe tbody tr th {\n",
       "        vertical-align: top;\n",
       "    }\n",
       "\n",
       "    .dataframe thead th {\n",
       "        text-align: right;\n",
       "    }\n",
       "</style>\n",
       "<table border=\"1\" class=\"dataframe\">\n",
       "  <thead>\n",
       "    <tr style=\"text-align: right;\">\n",
       "      <th></th>\n",
       "      <th>Cantidad</th>\n",
       "      <th>Porcentaje</th>\n",
       "    </tr>\n",
       "    <tr>\n",
       "      <th>item_id</th>\n",
       "      <th></th>\n",
       "      <th></th>\n",
       "    </tr>\n",
       "  </thead>\n",
       "  <tbody>\n",
       "    <tr>\n",
       "      <th>730</th>\n",
       "      <td>3708</td>\n",
       "      <td>6.35</td>\n",
       "    </tr>\n",
       "    <tr>\n",
       "      <th>440</th>\n",
       "      <td>3694</td>\n",
       "      <td>6.32</td>\n",
       "    </tr>\n",
       "    <tr>\n",
       "      <th>4000</th>\n",
       "      <td>1704</td>\n",
       "      <td>2.92</td>\n",
       "    </tr>\n",
       "    <tr>\n",
       "      <th>570</th>\n",
       "      <td>1544</td>\n",
       "      <td>2.64</td>\n",
       "    </tr>\n",
       "    <tr>\n",
       "      <th>218620</th>\n",
       "      <td>1113</td>\n",
       "      <td>1.90</td>\n",
       "    </tr>\n",
       "    <tr>\n",
       "      <th>304930</th>\n",
       "      <td>1031</td>\n",
       "      <td>1.76</td>\n",
       "    </tr>\n",
       "    <tr>\n",
       "      <th>252490</th>\n",
       "      <td>806</td>\n",
       "      <td>1.38</td>\n",
       "    </tr>\n",
       "    <tr>\n",
       "      <th>550</th>\n",
       "      <td>743</td>\n",
       "      <td>1.27</td>\n",
       "    </tr>\n",
       "    <tr>\n",
       "      <th>105600</th>\n",
       "      <td>729</td>\n",
       "      <td>1.25</td>\n",
       "    </tr>\n",
       "    <tr>\n",
       "      <th>221100</th>\n",
       "      <td>729</td>\n",
       "      <td>1.25</td>\n",
       "    </tr>\n",
       "    <tr>\n",
       "      <th>72850</th>\n",
       "      <td>709</td>\n",
       "      <td>1.21</td>\n",
       "    </tr>\n",
       "    <tr>\n",
       "      <th>230410</th>\n",
       "      <td>590</td>\n",
       "      <td>1.01</td>\n",
       "    </tr>\n",
       "    <tr>\n",
       "      <th>49520</th>\n",
       "      <td>550</td>\n",
       "      <td>0.94</td>\n",
       "    </tr>\n",
       "    <tr>\n",
       "      <th>620</th>\n",
       "      <td>372</td>\n",
       "      <td>0.64</td>\n",
       "    </tr>\n",
       "    <tr>\n",
       "      <th>208090</th>\n",
       "      <td>369</td>\n",
       "      <td>0.63</td>\n",
       "    </tr>\n",
       "  </tbody>\n",
       "</table>\n",
       "</div>"
      ],
      "text/plain": [
       "         Cantidad  Porcentaje\n",
       "item_id                      \n",
       "730          3708        6.35\n",
       "440          3694        6.32\n",
       "4000         1704        2.92\n",
       "570          1544        2.64\n",
       "218620       1113        1.90\n",
       "304930       1031        1.76\n",
       "252490        806        1.38\n",
       "550           743        1.27\n",
       "105600        729        1.25\n",
       "221100        729        1.25\n",
       "72850         709        1.21\n",
       "230410        590        1.01\n",
       "49520         550        0.94\n",
       "620           372        0.64\n",
       "208090        369        0.63"
      ]
     },
     "execution_count": 25,
     "metadata": {},
     "output_type": "execute_result"
    }
   ],
   "source": [
    "def porcentaje_top_n(df, column, top_n=10):\n",
    "    counts = df[column].value_counts()\n",
    "    total = len(df[column])\n",
    "    percentages = (counts / total) * 100\n",
    "    result_df = pd.DataFrame({'Cantidad': counts, 'Porcentaje': percentages})\n",
    "    \n",
    "    # Filtra para incluir solo los top_n valores más importantes\n",
    "    result_top_n = result_df.head(top_n)\n",
    "    \n",
    "    return result_top_n\n",
    "\n",
    "# Llama a la función con tu DataFrame y la columna 'genres'\n",
    "result_top_15= porcentaje_top_n(reviews, 'item_id', top_n=15)\n",
    "\n",
    "result_top_15"
   ]
  },
  {
   "cell_type": "markdown",
   "metadata": {},
   "source": [
    "Los juegos a los que mas reviews han realizado son el 730 y el 440"
   ]
  },
  {
   "cell_type": "markdown",
   "metadata": {},
   "source": [
    "## Analisis de la columna recommend"
   ]
  },
  {
   "cell_type": "code",
   "execution_count": 26,
   "metadata": {},
   "outputs": [
    {
     "data": {
      "text/html": [
       "<div>\n",
       "<style scoped>\n",
       "    .dataframe tbody tr th:only-of-type {\n",
       "        vertical-align: middle;\n",
       "    }\n",
       "\n",
       "    .dataframe tbody tr th {\n",
       "        vertical-align: top;\n",
       "    }\n",
       "\n",
       "    .dataframe thead th {\n",
       "        text-align: right;\n",
       "    }\n",
       "</style>\n",
       "<table border=\"1\" class=\"dataframe\">\n",
       "  <thead>\n",
       "    <tr style=\"text-align: right;\">\n",
       "      <th></th>\n",
       "      <th>Cantidad</th>\n",
       "      <th>Porcentaje</th>\n",
       "    </tr>\n",
       "    <tr>\n",
       "      <th>recommend</th>\n",
       "      <th></th>\n",
       "      <th></th>\n",
       "    </tr>\n",
       "  </thead>\n",
       "  <tbody>\n",
       "    <tr>\n",
       "      <th>True</th>\n",
       "      <td>51691</td>\n",
       "      <td>88.47</td>\n",
       "    </tr>\n",
       "    <tr>\n",
       "      <th>False</th>\n",
       "      <td>6739</td>\n",
       "      <td>11.53</td>\n",
       "    </tr>\n",
       "  </tbody>\n",
       "</table>\n",
       "</div>"
      ],
      "text/plain": [
       "           Cantidad  Porcentaje\n",
       "recommend                      \n",
       "True          51691       88.47\n",
       "False          6739       11.53"
      ]
     },
     "execution_count": 26,
     "metadata": {},
     "output_type": "execute_result"
    }
   ],
   "source": [
    "def porcentaje(df, column):\n",
    "   counts = df[column].value_counts()\n",
    "   total = len(df[column])\n",
    "   percentages = (counts / total) * 100\n",
    "   return pd.DataFrame({'Cantidad': counts, 'Porcentaje': percentages})\n",
    "\n",
    "\n",
    "result = porcentaje(reviews, 'recommend')\n",
    "result"
   ]
  },
  {
   "cell_type": "code",
   "execution_count": 27,
   "metadata": {},
   "outputs": [
    {
     "data": {
      "image/png": "[encoded data removed]",
      "text/plain": [
       "<Figure size 640x480 with 1 Axes>"
      ]
     },
     "metadata": {},
     "output_type": "display_data"
    }
   ],
   "source": [
    "porcentaje=reviews['recommend'].value_counts() / len(reviews) * 100\n",
    "round(porcentaje),2\n",
    "\n",
    "\n",
    "valores = porcentaje.values\n",
    "etiquetas = porcentaje.index\n",
    "\n",
    "# Crear el gráfico de torta\n",
    "plt.pie(valores, labels=etiquetas, autopct='%1.1f%%')\n",
    "plt.title('Distribucion recommend')\n",
    "plt.show()"
   ]
  },
  {
   "cell_type": "markdown",
   "metadata": {},
   "source": [
    "Se puede observar en los registros que el 88% de las personas recomiendan el juego consumido y que el 12% no lo hace"
   ]
  },
  {
   "cell_type": "markdown",
   "metadata": {},
   "source": [
    "## Analisis user_id"
   ]
  },
  {
   "cell_type": "code",
   "execution_count": 28,
   "metadata": {},
   "outputs": [
    {
     "data": {
      "text/html": [
       "<div>\n",
       "<style scoped>\n",
       "    .dataframe tbody tr th:only-of-type {\n",
       "        vertical-align: middle;\n",
       "    }\n",
       "\n",
       "    .dataframe tbody tr th {\n",
       "        vertical-align: top;\n",
       "    }\n",
       "\n",
       "    .dataframe thead th {\n",
       "        text-align: right;\n",
       "    }\n",
       "</style>\n",
       "<table border=\"1\" class=\"dataframe\">\n",
       "  <thead>\n",
       "    <tr style=\"text-align: right;\">\n",
       "      <th></th>\n",
       "      <th>Cantidad</th>\n",
       "      <th>Porcentaje</th>\n",
       "    </tr>\n",
       "    <tr>\n",
       "      <th>user_id</th>\n",
       "      <th></th>\n",
       "      <th></th>\n",
       "    </tr>\n",
       "  </thead>\n",
       "  <tbody>\n",
       "    <tr>\n",
       "      <th>76561198108415635</th>\n",
       "      <td>10</td>\n",
       "      <td>0.02</td>\n",
       "    </tr>\n",
       "    <tr>\n",
       "      <th>NanoPi</th>\n",
       "      <td>10</td>\n",
       "      <td>0.02</td>\n",
       "    </tr>\n",
       "    <tr>\n",
       "      <th>banksyyo</th>\n",
       "      <td>10</td>\n",
       "      <td>0.02</td>\n",
       "    </tr>\n",
       "    <tr>\n",
       "      <th>snubbo</th>\n",
       "      <td>10</td>\n",
       "      <td>0.02</td>\n",
       "    </tr>\n",
       "    <tr>\n",
       "      <th>BuffinMutton</th>\n",
       "      <td>10</td>\n",
       "      <td>0.02</td>\n",
       "    </tr>\n",
       "    <tr>\n",
       "      <th>...</th>\n",
       "      <td>...</td>\n",
       "      <td>...</td>\n",
       "    </tr>\n",
       "    <tr>\n",
       "      <th>554076033</th>\n",
       "      <td>1</td>\n",
       "      <td>0.00</td>\n",
       "    </tr>\n",
       "    <tr>\n",
       "      <th>_maximus</th>\n",
       "      <td>1</td>\n",
       "      <td>0.00</td>\n",
       "    </tr>\n",
       "    <tr>\n",
       "      <th>maxstupo</th>\n",
       "      <td>1</td>\n",
       "      <td>0.00</td>\n",
       "    </tr>\n",
       "    <tr>\n",
       "      <th>maxy21</th>\n",
       "      <td>1</td>\n",
       "      <td>0.00</td>\n",
       "    </tr>\n",
       "    <tr>\n",
       "      <th>SkullainnLovesGoats</th>\n",
       "      <td>1</td>\n",
       "      <td>0.00</td>\n",
       "    </tr>\n",
       "  </tbody>\n",
       "</table>\n",
       "<p>25457 rows × 2 columns</p>\n",
       "</div>"
      ],
      "text/plain": [
       "                     Cantidad  Porcentaje\n",
       "user_id                                  \n",
       "76561198108415635          10        0.02\n",
       "NanoPi                     10        0.02\n",
       "banksyyo                   10        0.02\n",
       "snubbo                     10        0.02\n",
       "BuffinMutton               10        0.02\n",
       "...                       ...         ...\n",
       "554076033                   1        0.00\n",
       "_maximus                    1        0.00\n",
       "maxstupo                    1        0.00\n",
       "maxy21                      1        0.00\n",
       "SkullainnLovesGoats         1        0.00\n",
       "\n",
       "[25457 rows x 2 columns]"
      ]
     },
     "execution_count": 28,
     "metadata": {},
     "output_type": "execute_result"
    }
   ],
   "source": [
    "def porcentaje(df, column):\n",
    "   counts = df[column].value_counts()\n",
    "   total = len(df[column])\n",
    "   percentages = (counts / total) * 100\n",
    "   return pd.DataFrame({'Cantidad': counts, 'Porcentaje': percentages})\n",
    "\n",
    "\n",
    "result = porcentaje(reviews, 'user_id')\n",
    "result"
   ]
  },
  {
   "cell_type": "markdown",
   "metadata": {},
   "source": [
    "La mayor cantidad de reviews de  juego que han puesto han sido 10"
   ]
  },
  {
   "cell_type": "markdown",
   "metadata": {},
   "source": [
    "## Analisis columna Sentiment Analysis"
   ]
  },
  {
   "cell_type": "code",
   "execution_count": 29,
   "metadata": {},
   "outputs": [
    {
     "data": {
      "image/png": "[encoded data removed]",
      "text/plain": [
       "<Figure size 640x480 with 1 Axes>"
      ]
     },
     "metadata": {},
     "output_type": "display_data"
    }
   ],
   "source": [
    "porcentaje=reviews['sentiment_analysis'].value_counts() / len(reviews) * 100\n",
    "round(porcentaje),2\n",
    "\n",
    "\n",
    "valores = porcentaje.values\n",
    "etiquetas = porcentaje.index\n",
    "\n",
    "# Crear el gráfico de torta\n",
    "plt.pie(valores, labels=etiquetas, autopct='%1.1f%%')\n",
    "plt.title('Distribucion del analisis de sentimientos')\n",
    "plt.show()"
   ]
  },
  {
   "cell_type": "markdown",
   "metadata": {},
   "source": [
    "Cerca del 53% los reviews relfejan sentimientos neutrales, el 39,6% reflejan sentimientos positivos y cerca del 7% reflejan sentimientos negativos."
   ]
  },
  {
   "cell_type": "markdown",
   "metadata": {},
   "source": [
    "## Analisis columna Year"
   ]
  },
  {
   "cell_type": "code",
   "execution_count": 30,
   "metadata": {},
   "outputs": [
    {
     "data": {
      "image/png": "[encoded data removed]",
      "text/plain": [
       "<Figure size 640x480 with 1 Axes>"
      ]
     },
     "metadata": {},
     "output_type": "display_data"
    }
   ],
   "source": [
    "cantidad = reviews['year_review'].value_counts()\n",
    "\n",
    "plt.figure()\n",
    "colores = [\"teal\", \"orange\", \"navy\", \"green\", \"blue\", \"purple\", \"black\"]\n",
    "sns.barplot(x=cantidad.index, y=cantidad.values, hue=cantidad.index,  palette=colores, legend=False)\n",
    "plt.xticks(rotation=90)\n",
    "plt.xlabel('Año')\n",
    "plt.ylabel('Cantidad')\n",
    "plt.title('Reviews por año')\n",
    "warnings.filterwarnings(\"ignore\")\n",
    "plt.show()"
   ]
  },
  {
   "cell_type": "markdown",
   "metadata": {},
   "source": [
    "Se puede observar que en los años 2014 y 2015 es donde mas reviews se presentan, ademas de que la cantidad de registros con formato no disponible que se pusieron en 0 o qu eno existe  año del review es alto"
   ]
  },
  {
   "cell_type": "code",
   "execution_count": 31,
   "metadata": {},
   "outputs": [
    {
     "data": {
      "text/html": [
       "<div>\n",
       "<style scoped>\n",
       "    .dataframe tbody tr th:only-of-type {\n",
       "        vertical-align: middle;\n",
       "    }\n",
       "\n",
       "    .dataframe tbody tr th {\n",
       "        vertical-align: top;\n",
       "    }\n",
       "\n",
       "    .dataframe thead th {\n",
       "        text-align: right;\n",
       "    }\n",
       "</style>\n",
       "<table border=\"1\" class=\"dataframe\">\n",
       "  <thead>\n",
       "    <tr style=\"text-align: right;\">\n",
       "      <th></th>\n",
       "      <th>item_id</th>\n",
       "      <th>recommend</th>\n",
       "      <th>user_id</th>\n",
       "      <th>sentiment_analysis</th>\n",
       "      <th>year_review</th>\n",
       "    </tr>\n",
       "  </thead>\n",
       "  <tbody>\n",
       "    <tr>\n",
       "      <th>0</th>\n",
       "      <td>1250</td>\n",
       "      <td>True</td>\n",
       "      <td>76561197970982479</td>\n",
       "      <td>2</td>\n",
       "      <td>2011</td>\n",
       "    </tr>\n",
       "    <tr>\n",
       "      <th>1</th>\n",
       "      <td>22200</td>\n",
       "      <td>True</td>\n",
       "      <td>76561197970982479</td>\n",
       "      <td>1</td>\n",
       "      <td>2011</td>\n",
       "    </tr>\n",
       "    <tr>\n",
       "      <th>2</th>\n",
       "      <td>43110</td>\n",
       "      <td>True</td>\n",
       "      <td>76561197970982479</td>\n",
       "      <td>2</td>\n",
       "      <td>2011</td>\n",
       "    </tr>\n",
       "    <tr>\n",
       "      <th>3</th>\n",
       "      <td>251610</td>\n",
       "      <td>True</td>\n",
       "      <td>js41637</td>\n",
       "      <td>2</td>\n",
       "      <td>2014</td>\n",
       "    </tr>\n",
       "    <tr>\n",
       "      <th>4</th>\n",
       "      <td>227300</td>\n",
       "      <td>True</td>\n",
       "      <td>js41637</td>\n",
       "      <td>2</td>\n",
       "      <td>2013</td>\n",
       "    </tr>\n",
       "    <tr>\n",
       "      <th>...</th>\n",
       "      <td>...</td>\n",
       "      <td>...</td>\n",
       "      <td>...</td>\n",
       "      <td>...</td>\n",
       "      <td>...</td>\n",
       "    </tr>\n",
       "    <tr>\n",
       "      <th>58425</th>\n",
       "      <td>70</td>\n",
       "      <td>True</td>\n",
       "      <td>76561198312638244</td>\n",
       "      <td>2</td>\n",
       "      <td>2014</td>\n",
       "    </tr>\n",
       "    <tr>\n",
       "      <th>58426</th>\n",
       "      <td>362890</td>\n",
       "      <td>True</td>\n",
       "      <td>76561198312638244</td>\n",
       "      <td>2</td>\n",
       "      <td>2014</td>\n",
       "    </tr>\n",
       "    <tr>\n",
       "      <th>58427</th>\n",
       "      <td>273110</td>\n",
       "      <td>True</td>\n",
       "      <td>LydiaMorley</td>\n",
       "      <td>2</td>\n",
       "      <td>2014</td>\n",
       "    </tr>\n",
       "    <tr>\n",
       "      <th>58428</th>\n",
       "      <td>730</td>\n",
       "      <td>True</td>\n",
       "      <td>LydiaMorley</td>\n",
       "      <td>2</td>\n",
       "      <td>2014</td>\n",
       "    </tr>\n",
       "    <tr>\n",
       "      <th>58429</th>\n",
       "      <td>440</td>\n",
       "      <td>True</td>\n",
       "      <td>LydiaMorley</td>\n",
       "      <td>2</td>\n",
       "      <td>2014</td>\n",
       "    </tr>\n",
       "  </tbody>\n",
       "</table>\n",
       "<p>58430 rows × 5 columns</p>\n",
       "</div>"
      ],
      "text/plain": [
       "       item_id  recommend            user_id  sentiment_analysis  year_review\n",
       "0         1250       True  76561197970982479                   2         2011\n",
       "1        22200       True  76561197970982479                   1         2011\n",
       "2        43110       True  76561197970982479                   2         2011\n",
       "3       251610       True            js41637                   2         2014\n",
       "4       227300       True            js41637                   2         2013\n",
       "...        ...        ...                ...                 ...          ...\n",
       "58425       70       True  76561198312638244                   2         2014\n",
       "58426   362890       True  76561198312638244                   2         2014\n",
       "58427   273110       True        LydiaMorley                   2         2014\n",
       "58428      730       True        LydiaMorley                   2         2014\n",
       "58429      440       True        LydiaMorley                   2         2014\n",
       "\n",
       "[58430 rows x 5 columns]"
      ]
     },
     "execution_count": 31,
     "metadata": {},
     "output_type": "execute_result"
    }
   ],
   "source": [
    "reviews"
   ]
  },
  {
   "cell_type": "markdown",
   "metadata": {},
   "source": [
    "Guardamos el dataset"
   ]
  },
  {
   "cell_type": "code",
   "execution_count": 32,
   "metadata": {},
   "outputs": [
    {
     "name": "stdout",
     "output_type": "stream",
     "text": [
      "Se guardó el archivo \n"
     ]
    }
   ],
   "source": [
    "reviews.to_csv('australian_user_reviews_limpia_eda.csv',index=False)\n",
    "print(f'Se guardó el archivo ')"
   ]
  }
 ],
 "metadata": {
  "kernelspec": {
   "display_name": "Python 3",
   "language": "python",
   "name": "python3"
  },
  "language_info": {
   "codemirror_mode": {
    "name": "ipython",
    "version": 3
   },
   "file_extension": ".py",
   "mimetype": "text/x-python",
   "name": "python",
   "nbconvert_exporter": "python",
   "pygments_lexer": "ipython3",
   "version": "3.11.2"
  }
 },
 "nbformat": 4,
 "nbformat_minor": 2
}
